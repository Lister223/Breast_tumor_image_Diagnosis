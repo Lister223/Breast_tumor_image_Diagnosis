{
 "cells": [
  {
   "cell_type": "code",
   "execution_count": 1,
   "id": "fd577a24-b801-49bf-acf5-3a59a9390e2e",
   "metadata": {},
   "outputs": [],
   "source": [
    "import cv2\n",
    "import os\n",
    "import tensorflow as tf\n",
    "from tensorflow.keras.preprocessing.image import ImageDataGenerator\n",
    "from tensorflow.keras.models import Model\n",
    "from tensorflow.keras.layers import Dense\n",
    "from tensorflow.keras.models import Sequential\n",
    "from tensorflow.keras import models, layers, optimizers\n",
    "from tensorflow.keras.optimizers.schedules import ExponentialDecay\n",
    "from tensorflow.keras.applications.resnet_v2 import ResNet50V2\n",
    "from sklearn.metrics import classification_report , confusion_matrix\n",
    "from skimage import exposure\n",
    "import numpy as np"
   ]
  },
  {
   "cell_type": "code",
   "execution_count": 49,
   "id": "62fd0b92-2967-4d67-96cb-4200964d493c",
   "metadata": {},
   "outputs": [],
   "source": [
    "image_folder = r\"C:\\Users\\tyhoo\\Documents\\python project\\PROJECT\\BREAST_CANCER_IMAGE_CNN\\output\"\n",
    "img_width, img_height = 460, 460\n",
    "batch_size = 16"
   ]
  },
  {
   "cell_type": "code",
   "execution_count": 50,
   "id": "229f1a46-c976-49cb-9522-e18a75b508c7",
   "metadata": {},
   "outputs": [],
   "source": [
    " # 設定圖片尺寸與批次大小\n",
    "def image_enhance(image):\n",
    "    image = tf.image.random_flip_left_right(image)\n",
    "    image = tf.image.random_crop(image,size=[img_width, img_height,3])\n",
    "    image = tf.image.per_image_standardization(image)\n",
    "    image = tf.image.adjust_contrast(image,2)\n",
    "    return image\n",
    "\n",
    "def image_process(image):\n",
    "    image = tf.image.per_image_standardization(image)\n",
    "    image = tf.image.adjust_contrast(image,2)\n",
    "    return image\n",
    "\n",
    "def load_pic(image_folder,img_width,img_height,batch_size):\n",
    "    # 建立 ImageDataGenerator 物件\n",
    "    datagen_train = ImageDataGenerator(rescale=1.0/255.0,preprocessing_function=image_enhance)\n",
    "    datagen_test_val = ImageDataGenerator(rescale=1.0/255.0,preprocessing_function=image_process)\n",
    "    # 使用 ImageDataGenerator 從資料夾中載入訓練集和測試集\n",
    "    train_generator = datagen_train.flow_from_directory(\n",
    "        os.path.join(image_folder,'train'),\n",
    "        target_size= (img_width,img_height),\n",
    "        batch_size= batch_size,\n",
    "        class_mode='categorical',\n",
    "        shuffle=True)\n",
    "    test_generator = datagen_test_val.flow_from_directory(\n",
    "        os.path.join(image_folder,'test'),\n",
    "        target_size= (428,img_height),\n",
    "        batch_size= batch_size,\n",
    "        class_mode='categorical',\n",
    "        shuffle=False)\n",
    "    validation_generator = datagen_test_val.flow_from_directory(\n",
    "        os.path.join(image_folder,'val'),\n",
    "        target_size= (img_width,img_height),\n",
    "        batch_size= batch_size,\n",
    "        class_mode='categorical',\n",
    "        shuffle=False)\n",
    "    print('Data generators ready')\n",
    "    return train_generator,test_generator,validation_generator\n"
   ]
  },
  {
   "cell_type": "code",
   "execution_count": 51,
   "id": "ad8b3144-a0e8-459b-b248-bc9331443c7d",
   "metadata": {},
   "outputs": [
    {
     "name": "stdout",
     "output_type": "stream",
     "text": [
      "Found 7696 images belonging to 2 classes.\n",
      "Found 1028 images belonging to 2 classes.\n",
      "Found 1538 images belonging to 2 classes.\n",
      "Data generators ready\n"
     ]
    }
   ],
   "source": [
    "train_generator,test_generator,validation_generator  = load_pic(image_folder,img_width, img_height,batch_size)"
   ]
  },
  {
   "cell_type": "code",
   "execution_count": 52,
   "id": "c895f43f-c9a4-47e8-8a52-a7f54b6c7303",
   "metadata": {},
   "outputs": [],
   "source": [
    "#導入resnet\n",
    "base_model = ResNet50V2(weights='imagenet', include_top=False, input_shape=(img_width, img_height, 3))"
   ]
  },
  {
   "cell_type": "code",
   "execution_count": 53,
   "id": "ab0fbcd6-eb5f-4c97-9ee9-48e81a2449bb",
   "metadata": {},
   "outputs": [],
   "source": [
    "model = Sequential()\n",
    "model.add(base_model)\n",
    "model.add(tf.keras.layers.GlobalAveragePooling2D())\n",
    "model.add(Dense(2, activation='softmax'))\n",
    "\n",
    "#超參設置\n",
    "callback = tf.keras.callbacks.EarlyStopping(\n",
    "            monitor='val_loss', min_delta=0,\n",
    "            patience=10, verbose=0, mode='min',\n",
    "            baseline=None, restore_best_weights=True)\n",
    "#設定epoch\n",
    "epoch = 30\n",
    "\n",
    "# 優化器\n",
    "optimizers = tf.optimizers.SGD(learning_rate=0.01, momentum=0.9)\n",
    "\n",
    "# 學習率調度器\n",
    "lr_schedule = ExponentialDecay(initial_learning_rate=0.1, decay_steps=7, decay_rate=0.1)\n",
    "optimizer_with_scheduler = tf.optimizers.SGD(learning_rate=lr_schedule, momentum=0.9)\n",
    "\n",
    "# 模型編譯\n",
    "model.compile(optimizer=optimizers, loss='categorical_crossentropy', metrics=['accuracy'])"
   ]
  },
  {
   "cell_type": "code",
   "execution_count": 54,
   "id": "2f97eeca-0423-4f2e-b561-1f56cb06620f",
   "metadata": {},
   "outputs": [
    {
     "name": "stdout",
     "output_type": "stream",
     "text": [
      "Epoch 1/30\n",
      "481/481 [==============================] - 332s 683ms/step - loss: 0.3072 - accuracy: 0.8699 - val_loss: 0.8712 - val_accuracy: 0.5169\n",
      "Epoch 2/30\n",
      "481/481 [==============================] - 342s 711ms/step - loss: 0.1768 - accuracy: 0.9333 - val_loss: 0.3661 - val_accuracy: 0.8869\n",
      "Epoch 3/30\n",
      "481/481 [==============================] - 343s 713ms/step - loss: 0.1393 - accuracy: 0.9485 - val_loss: 0.1941 - val_accuracy: 0.9174\n",
      "Epoch 4/30\n",
      "481/481 [==============================] - 341s 708ms/step - loss: 0.1020 - accuracy: 0.9630 - val_loss: 0.1974 - val_accuracy: 0.9363\n",
      "Epoch 5/30\n",
      "481/481 [==============================] - 334s 694ms/step - loss: 0.0914 - accuracy: 0.9660 - val_loss: 0.1431 - val_accuracy: 0.9428\n",
      "Epoch 6/30\n",
      "481/481 [==============================] - 333s 692ms/step - loss: 0.0694 - accuracy: 0.9747 - val_loss: 0.1225 - val_accuracy: 0.9558\n",
      "Epoch 7/30\n",
      "481/481 [==============================] - 341s 709ms/step - loss: 0.0532 - accuracy: 0.9800 - val_loss: 0.0469 - val_accuracy: 0.9863\n",
      "Epoch 8/30\n",
      "481/481 [==============================] - 345s 717ms/step - loss: 0.0489 - accuracy: 0.9815 - val_loss: 0.1065 - val_accuracy: 0.9603\n",
      "Epoch 9/30\n",
      "481/481 [==============================] - 347s 722ms/step - loss: 0.0468 - accuracy: 0.9828 - val_loss: 0.1037 - val_accuracy: 0.9662\n",
      "Epoch 10/30\n",
      "481/481 [==============================] - 331s 687ms/step - loss: 0.0327 - accuracy: 0.9875 - val_loss: 0.0742 - val_accuracy: 0.9753\n",
      "Epoch 11/30\n",
      "481/481 [==============================] - 334s 695ms/step - loss: 0.0476 - accuracy: 0.9827 - val_loss: 0.0591 - val_accuracy: 0.9798\n",
      "Epoch 12/30\n",
      "481/481 [==============================] - 329s 684ms/step - loss: 0.0277 - accuracy: 0.9903 - val_loss: 0.1413 - val_accuracy: 0.9564\n",
      "Epoch 13/30\n",
      "481/481 [==============================] - 347s 722ms/step - loss: 0.0261 - accuracy: 0.9910 - val_loss: 0.0529 - val_accuracy: 0.9844\n",
      "Epoch 14/30\n",
      "481/481 [==============================] - 334s 695ms/step - loss: 0.0224 - accuracy: 0.9934 - val_loss: 0.1228 - val_accuracy: 0.9675\n",
      "Epoch 15/30\n",
      "481/481 [==============================] - 336s 699ms/step - loss: 0.0259 - accuracy: 0.9904 - val_loss: 0.0792 - val_accuracy: 0.9798\n",
      "Epoch 16/30\n",
      "481/481 [==============================] - 336s 698ms/step - loss: 0.0116 - accuracy: 0.9958 - val_loss: 0.0463 - val_accuracy: 0.9863\n",
      "Epoch 17/30\n",
      "481/481 [==============================] - 333s 693ms/step - loss: 0.0173 - accuracy: 0.9940 - val_loss: 0.1041 - val_accuracy: 0.9597\n",
      "Epoch 18/30\n",
      "481/481 [==============================] - 339s 704ms/step - loss: 0.0145 - accuracy: 0.9960 - val_loss: 0.0683 - val_accuracy: 0.9792\n",
      "Epoch 19/30\n",
      "481/481 [==============================] - 349s 725ms/step - loss: 0.0089 - accuracy: 0.9983 - val_loss: 0.0569 - val_accuracy: 0.9805\n",
      "Epoch 20/30\n",
      "481/481 [==============================] - 341s 709ms/step - loss: 0.0081 - accuracy: 0.9974 - val_loss: 0.0585 - val_accuracy: 0.9798\n",
      "Epoch 21/30\n",
      "481/481 [==============================] - 332s 690ms/step - loss: 0.0109 - accuracy: 0.9965 - val_loss: 0.0765 - val_accuracy: 0.9740\n",
      "Epoch 22/30\n",
      "481/481 [==============================] - 336s 700ms/step - loss: 0.0075 - accuracy: 0.9979 - val_loss: 0.0384 - val_accuracy: 0.9863\n",
      "Epoch 23/30\n",
      "481/481 [==============================] - 335s 696ms/step - loss: 0.0044 - accuracy: 0.9984 - val_loss: 0.0520 - val_accuracy: 0.9772\n",
      "Epoch 24/30\n",
      "481/481 [==============================] - 343s 714ms/step - loss: 0.0131 - accuracy: 0.9953 - val_loss: 0.1535 - val_accuracy: 0.9642\n",
      "Epoch 25/30\n",
      "481/481 [==============================] - 339s 705ms/step - loss: 0.0070 - accuracy: 0.9975 - val_loss: 0.0490 - val_accuracy: 0.9850\n",
      "Epoch 26/30\n",
      "481/481 [==============================] - 333s 693ms/step - loss: 0.0147 - accuracy: 0.9948 - val_loss: 0.2289 - val_accuracy: 0.9363\n",
      "Epoch 27/30\n",
      "481/481 [==============================] - 340s 706ms/step - loss: 0.0066 - accuracy: 0.9982 - val_loss: 0.0263 - val_accuracy: 0.9876\n",
      "Epoch 28/30\n",
      "481/481 [==============================] - 348s 723ms/step - loss: 0.0026 - accuracy: 0.9995 - val_loss: 0.0329 - val_accuracy: 0.9883\n",
      "Epoch 29/30\n",
      "481/481 [==============================] - 338s 702ms/step - loss: 0.0035 - accuracy: 0.9988 - val_loss: 0.0247 - val_accuracy: 0.9896\n",
      "Epoch 30/30\n",
      "481/481 [==============================] - 334s 694ms/step - loss: 0.0118 - accuracy: 0.9957 - val_loss: 0.0555 - val_accuracy: 0.9805\n"
     ]
    }
   ],
   "source": [
    "history = model.fit(train_generator,\n",
    "                    epochs = epoch, \n",
    "                    validation_data=validation_generator,\n",
    "                    callbacks=callback\n",
    "                   )"
   ]
  },
  {
   "cell_type": "code",
   "execution_count": 55,
   "id": "0a62631a-a4c9-4392-b28b-5cf62cd1951c",
   "metadata": {},
   "outputs": [
    {
     "data": {
      "image/png": "[encoded data removed]",
      "text/plain": [
       "<Figure size 640x480 with 1 Axes>"
      ]
     },
     "metadata": {},
     "output_type": "display_data"
    }
   ],
   "source": [
    "#繪製loss圖\n",
    "\n",
    "epochs = epoch\n",
    "from matplotlib import pyplot as plt\n",
    "epoch_nums = range(1,epochs + 1)\n",
    "training_loss = history.history[\"loss\"]\n",
    "validation_loss = history.history[\"val_loss\"]\n",
    "plt.plot(epoch_nums, training_loss)\n",
    "plt.plot(epoch_nums, validation_loss)\n",
    "plt.xlabel('epoch')\n",
    "plt.ylabel('loss')\n",
    "plt.legend(['training', 'validation'], loc='upper right')\n",
    "plt.show()\n"
   ]
  },
  {
   "cell_type": "code",
   "execution_count": 56,
   "id": "039a11d2-0b18-4653-a4ec-1ecbb88ede46",
   "metadata": {},
   "outputs": [
    {
     "name": "stdout",
     "output_type": "stream",
     "text": [
      "65/65 [==============================] - 21s 315ms/step\n",
      "              precision    recall  f1-score   support\n",
      "\n",
      "           0       0.96      0.99      0.98       497\n",
      "           1       0.99      0.96      0.98       531\n",
      "\n",
      "    accuracy                           0.98      1028\n",
      "   macro avg       0.98      0.98      0.98      1028\n",
      "weighted avg       0.98      0.98      0.98      1028\n",
      "\n",
      "[[493   4]\n",
      " [ 21 510]]\n"
     ]
    }
   ],
   "source": [
    "#報告\n",
    "y_pred = model.predict(test_generator)\n",
    "y_pred = np.argmax(y_pred, axis=1)\n",
    "y_test = test_generator.classes\n",
    "class_report =  classification_report(y_test,y_pred)\n",
    "matrix = confusion_matrix(y_test,y_pred)\n",
    "print(class_report)\n",
    "print(matrix)"
   ]
  },
  {
   "cell_type": "code",
   "execution_count": 57,
   "id": "70b2ec44-4add-4c75-ae1c-d39bb81e4de2",
   "metadata": {},
   "outputs": [
    {
     "name": "stderr",
     "output_type": "stream",
     "text": [
      "WARNING:absl:Found untraced functions such as _jit_compiled_convolution_op, _jit_compiled_convolution_op, _jit_compiled_convolution_op, _jit_compiled_convolution_op, _jit_compiled_convolution_op while saving (showing 5 of 53). These functions will not be directly callable after loading.\n"
     ]
    },
    {
     "name": "stdout",
     "output_type": "stream",
     "text": [
      "INFO:tensorflow:Assets written to: Resnet50_BC_Image\\assets\n"
     ]
    },
    {
     "name": "stderr",
     "output_type": "stream",
     "text": [
      "INFO:tensorflow:Assets written to: Resnet50_BC_Image\\assets\n"
     ]
    }
   ],
   "source": [
    "from tensorflow import keras\n",
    "model.save('Resnet50_BC_Image')"
   ]
  },
  {
   "cell_type": "code",
   "execution_count": null,
   "id": "1827e7a1-eae5-4aa5-9eed-a6f03147cc74",
   "metadata": {},
   "outputs": [],
   "source": []
  }
 ],
 "metadata": {
  "kernelspec": {
   "display_name": "Python 3 (ipykernel)",
   "language": "python",
   "name": "python3"
  },
  "language_info": {
   "codemirror_mode": {
    "name": "ipython",
    "version": 3
   },
   "file_extension": ".py",
   "mimetype": "text/x-python",
   "name": "python",
   "nbconvert_exporter": "python",
   "pygments_lexer": "ipython3",
   "version": "3.8.0"
  }
 },
 "nbformat": 4,
 "nbformat_minor": 5
}
